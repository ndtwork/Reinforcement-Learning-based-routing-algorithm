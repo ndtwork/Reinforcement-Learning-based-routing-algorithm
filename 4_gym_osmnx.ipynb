{
 "cells": [
  {
   "cell_type": "code",
   "execution_count": 3,
   "metadata": {},
   "outputs": [],
   "source": [
    "import osmnx as ox\n",
    "import networkx as nx\n",
    "import plotly.graph_objects as go\n",
    "import numpy as np\n",
    "import matplotlib.pyplot as plt\n",
    "from src.utils import plot_path\n",
    "import wandb\n",
    "from tqdm import tqdm\n",
    "from collections import defaultdict, Counter\n",
    "import pandas as pd\n",
    "from torch import nn\n",
    "from gym import spaces\n",
    "\n",
    "# for rendering\n",
    "import imageio\n",
    "import IPython\n",
    "from PIL import Image\n",
    "from pyvirtualdisplay import Display\n",
    "display = Display(visible=0, size=(1400, 900))\n",
    "display.start()\n",
    "%matplotlib inline\n",
    "\n",
    "\n",
    "from pathlib import Path\n",
    "home = str(Path.home())\n",
    "graph_path = home + \"/dev/GraphRouteOptimizationRL/datasets/osmnx/houston_tx_usa_drive_20000_no_isolated_nodes.graphml\"\n",
    "G = ox.load_graphml(graph_path)"
   ]
  },
  {
   "cell_type": "code",
   "execution_count": 2,
   "metadata": {},
   "outputs": [],
   "source": [
    "neighbor = []\n",
    "for i in G.nodes():\n",
    "    neighbor.append(list(G.neighbors(i)))\n",
    "neighbor_len = [len(i) for i in neighbor]"
   ]
  },
  {
   "cell_type": "code",
   "execution_count": 74,
   "metadata": {},
   "outputs": [
    {
     "data": {
      "text/html": [
       "<div>\n",
       "<style scoped>\n",
       "    .dataframe tbody tr th:only-of-type {\n",
       "        vertical-align: middle;\n",
       "    }\n",
       "\n",
       "    .dataframe tbody tr th {\n",
       "        vertical-align: top;\n",
       "    }\n",
       "\n",
       "    .dataframe thead th {\n",
       "        text-align: right;\n",
       "    }\n",
       "</style>\n",
       "<table border=\"1\" class=\"dataframe\">\n",
       "  <thead>\n",
       "    <tr style=\"text-align: right;\">\n",
       "      <th></th>\n",
       "      <th>Latitude</th>\n",
       "      <th>Longitude</th>\n",
       "      <th>stage_ft</th>\n",
       "      <th>name</th>\n",
       "    </tr>\n",
       "  </thead>\n",
       "  <tbody>\n",
       "    <tr>\n",
       "      <th>0</th>\n",
       "      <td>30.22111</td>\n",
       "      <td>-97.79333</td>\n",
       "      <td>1.99</td>\n",
       "      <td>Williamson Creek at Manchaca Road at Austin</td>\n",
       "    </tr>\n",
       "    <tr>\n",
       "      <th>1</th>\n",
       "      <td>32.73278</td>\n",
       "      <td>-99.14028</td>\n",
       "      <td>3.78</td>\n",
       "      <td>Hubbard Creek at Albany</td>\n",
       "    </tr>\n",
       "    <tr>\n",
       "      <th>2</th>\n",
       "      <td>30.24444</td>\n",
       "      <td>-97.80194</td>\n",
       "      <td>1.73</td>\n",
       "      <td>Barton Creek at Loop 360</td>\n",
       "    </tr>\n",
       "    <tr>\n",
       "      <th>3</th>\n",
       "      <td>30.37194</td>\n",
       "      <td>-97.78445</td>\n",
       "      <td>2.47</td>\n",
       "      <td>Bull Creek at Loop 360</td>\n",
       "    </tr>\n",
       "    <tr>\n",
       "      <th>4</th>\n",
       "      <td>32.93298</td>\n",
       "      <td>-99.21539</td>\n",
       "      <td>5.99</td>\n",
       "      <td>Clear Fork Brazos River at Fort Griffin</td>\n",
       "    </tr>\n",
       "  </tbody>\n",
       "</table>\n",
       "</div>"
      ],
      "text/plain": [
       "   Latitude  Longitude  stage_ft                                         name\n",
       "0  30.22111  -97.79333      1.99  Williamson Creek at Manchaca Road at Austin\n",
       "1  32.73278  -99.14028      3.78                      Hubbard Creek at Albany\n",
       "2  30.24444  -97.80194      1.73                     Barton Creek at Loop 360\n",
       "3  30.37194  -97.78445      2.47                       Bull Creek at Loop 360\n",
       "4  32.93298  -99.21539      5.99      Clear Fork Brazos River at Fort Griffin"
      ]
     },
     "execution_count": 74,
     "metadata": {},
     "output_type": "execute_result"
    }
   ],
   "source": [
    "df = pd.read_csv(\"./datasets/tx_flood.csv\")\n",
    "df.head()"
   ]
  },
  {
   "cell_type": "code",
   "execution_count": 71,
   "metadata": {},
   "outputs": [],
   "source": [
    "# ox.utils_graph.get_route_edge_attributes(G, route, \"travel_time\")"
   ]
  },
  {
   "cell_type": "code",
   "execution_count": 9,
   "metadata": {},
   "outputs": [
    {
     "data": {
      "text/plain": [
       "365050"
      ]
     },
     "execution_count": 9,
     "metadata": {},
     "output_type": "execute_result"
    }
   ],
   "source": [
    "G.number_of_edges()"
   ]
  },
  {
   "cell_type": "code",
   "execution_count": 7,
   "metadata": {},
   "outputs": [
    {
     "data": {
      "text/plain": [
       "144972"
      ]
     },
     "execution_count": 7,
     "metadata": {},
     "output_type": "execute_result"
    }
   ],
   "source": [
    "G.number_of_nodes()"
   ]
  },
  {
   "cell_type": "code",
   "execution_count": null,
   "metadata": {},
   "outputs": [],
   "source": [
    "ox.plot_graph(G)"
   ]
  },
  {
   "cell_type": "code",
   "execution_count": 75,
   "metadata": {},
   "outputs": [],
   "source": [
    "from torch import nn"
   ]
  },
  {
   "cell_type": "code",
   "execution_count": 25,
   "metadata": {},
   "outputs": [],
   "source": [
    "data = min(G.get_edge_data(153192125, 151461824).values(), key=lambda x: x[\"length\"])"
   ]
  },
  {
   "cell_type": "code",
   "execution_count": 37,
   "metadata": {},
   "outputs": [],
   "source": [
    "route = nx.shortest_path(G, 152964263, 151461824, weight=\"travel_time\")"
   ]
  },
  {
   "cell_type": "code",
   "execution_count": 46,
   "metadata": {},
   "outputs": [
    {
     "data": {
      "text/plain": [
       "2"
      ]
     },
     "execution_count": 46,
     "metadata": {},
     "output_type": "execute_result"
    }
   ],
   "source": [
    "G.degree(152700529)"
   ]
  },
  {
   "cell_type": "code",
   "execution_count": 51,
   "metadata": {},
   "outputs": [
    {
     "data": {
      "text/plain": [
       "{'y': 29.748536,\n",
       " 'x': -95.372895,\n",
       " 'highway': 'traffic_signals',\n",
       " 'street_count': 4}"
      ]
     },
     "execution_count": 51,
     "metadata": {},
     "output_type": "execute_result"
    }
   ],
   "source": [
    "G.nodes(data=True)[152700529]"
   ]
  },
  {
   "cell_type": "code",
   "execution_count": 2,
   "metadata": {},
   "outputs": [],
   "source": [
    "adj_shape = (len(G.nodes), len(G.nodes))\n",
    "observation_space = spaces.Dict({\n",
    "            \"current\": spaces.Discrete(1000),\n",
    "            \"adj\": spaces.Box(low=0, high=1, shape=adj_shape, dtype=np.float32),\n",
    "            \"length\": spaces.Box(low=0, high=float(\"inf\"), shape=adj_shape, dtype=np.float32),\n",
    "            \"speed_kph\": spaces.Box(low=0, high=120, shape=adj_shape, dtype=np.float32),\n",
    "            \"travel_time\": spaces.Box(low=0, high=float(\"inf\"), shape=adj_shape, dtype=np.float32),\n",
    "        })"
   ]
  },
  {
   "cell_type": "code",
   "execution_count": 100,
   "metadata": {},
   "outputs": [
    {
     "data": {
      "text/plain": [
       "False"
      ]
     },
     "execution_count": 100,
     "metadata": {},
     "output_type": "execute_result"
    }
   ],
   "source": [
    "observation_space.contains(A)"
   ]
  },
  {
   "cell_type": "code",
   "execution_count": 2,
   "metadata": {},
   "outputs": [],
   "source": [
    "A = nx.to_numpy_array(G)"
   ]
  },
  {
   "cell_type": "code",
   "execution_count": 4,
   "metadata": {},
   "outputs": [
    {
     "data": {
      "text/plain": [
       "(72486, 72486)"
      ]
     },
     "execution_count": 4,
     "metadata": {},
     "output_type": "execute_result"
    }
   ],
   "source": [
    "A.shape"
   ]
  },
  {
   "cell_type": "code",
   "execution_count": 5,
   "metadata": {},
   "outputs": [],
   "source": [
    "G = ox.add_node_elevations(G)"
   ]
  },
  {
   "cell_type": "code",
   "execution_count": 5,
   "metadata": {},
   "outputs": [],
   "source": [
    "A = nx.adjacency_matrix(G)"
   ]
  },
  {
   "cell_type": "code",
   "execution_count": null,
   "metadata": {},
   "outputs": [],
   "source": [
    "ox.plot_graph_route(G, [151488629, 151488633])"
   ]
  },
  {
   "cell_type": "code",
   "execution_count": 9,
   "metadata": {},
   "outputs": [
    {
     "data": {
      "text/plain": [
       "[153192125, 2229510607]"
      ]
     },
     "execution_count": 9,
     "metadata": {},
     "output_type": "execute_result"
    }
   ],
   "source": [
    "list(nx.neighbors(G, 151461824))"
   ]
  },
  {
   "cell_type": "code",
   "execution_count": 62,
   "metadata": {},
   "outputs": [
    {
     "data": {
      "text/plain": [
       "2"
      ]
     },
     "execution_count": 62,
     "metadata": {},
     "output_type": "execute_result"
    }
   ],
   "source": [
    "G.degree(152700529)"
   ]
  },
  {
   "cell_type": "code",
   "execution_count": 70,
   "metadata": {},
   "outputs": [
    {
     "data": {
      "text/plain": [
       "2.5"
      ]
     },
     "execution_count": 70,
     "metadata": {},
     "output_type": "execute_result"
    }
   ],
   "source": [
    "np.mean([1,2,3,4])"
   ]
  },
  {
   "cell_type": "code",
   "execution_count": 100,
   "metadata": {},
   "outputs": [],
   "source": [
    "center_point = (29.72346214336903, -95.38599726549226) # houston museum/houston center points\n",
    "center_point = (29.764050, -95.393030) # buffalo bayou park\n",
    "G = ox.graph.graph_from_point(center_point, dist=2000, simplify = True, network_type='drive')"
   ]
  },
  {
   "cell_type": "code",
   "execution_count": null,
   "metadata": {},
   "outputs": [],
   "source": [
    "nx.adjacency_matrix(G, weight=\"length\").toarray()"
   ]
  },
  {
   "cell_type": "code",
   "execution_count": 40,
   "metadata": {},
   "outputs": [],
   "source": [
    "neighbor_set = [x for x in G.neighbors(152264058)]\n",
    "mask = np.isin(G.nodes(), neighbor_set, assume_unique=True).astype(int)"
   ]
  },
  {
   "cell_type": "code",
   "execution_count": 19,
   "metadata": {},
   "outputs": [],
   "source": [
    "from gym import spaces"
   ]
  },
  {
   "cell_type": "code",
   "execution_count": 52,
   "metadata": {},
   "outputs": [],
   "source": [
    "G = ox.speed.add_edge_speeds(G)\n",
    "G = ox.speed.add_edge_travel_times(G)\n",
    "G = ox.distance.add_edge_lengths(G)\n",
    "# A = nx.adjacency_matrix(G, weight=\"speeds\")\n",
    "# nodes_dict = {idx:n for idx, n in enumerate(G.nodes())}\n",
    "# D = A.toarray()"
   ]
  },
  {
   "cell_type": "code",
   "execution_count": 62,
   "metadata": {},
   "outputs": [
    {
     "data": {
      "text/plain": [
       "(151366417,\n",
       " 151366418,\n",
       " {'osmid': 15276431,\n",
       "  'name': 'Castle Court Place',\n",
       "  'highway': 'residential',\n",
       "  'oneway': False,\n",
       "  'length': 22.351,\n",
       "  'speed_kph': 48.3,\n",
       "  'travel_time': 1.7})"
      ]
     },
     "execution_count": 62,
     "metadata": {},
     "output_type": "execute_result"
    }
   ],
   "source": [
    "list(G.edges(data=True))[0]"
   ]
  },
  {
   "cell_type": "code",
   "execution_count": 7,
   "metadata": {},
   "outputs": [],
   "source": [
    "def remove_de_node(D, nodes_dict):\n",
    "    # remove dead-end road\n",
    "    de_nodes = [nodes_dict[idx] for idx, n in enumerate(D) if sum(n) <= 0]\n",
    "    return de_nodes\n",
    "\n",
    "de_nodes = remove_de_node(D, nodes_dict)\n",
    "print(de_nodes)\n",
    "G.remove_nodes_from(de_nodes)\n",
    "\n",
    "dummy_route = []\n",
    "# get dummy route by degree\n",
    "for x, degree in nx.degree(G, weight=\"length\"):\n",
    "    if degree <= 0:\n",
    "        print(x, degree)\n",
    "        dummy_route.append(x)\n",
    "\n",
    "A = G.adjacency()\n",
    "# check items in adjacency\n",
    "for n, nbrdict in A:\n",
    "    print(n, nbrdict)\n",
    "    break"
   ]
  },
  {
   "cell_type": "code",
   "execution_count": null,
   "metadata": {},
   "outputs": [],
   "source": [
    "# for n in G.nodes():\n",
    "#     print(n, )\n",
    "#     break\n",
    "\n",
    "for x in G.edges(data=True):\n",
    "    # get all edges data\n",
    "    print(x[2]['travel_time'])\n",
    "    break"
   ]
  },
  {
   "cell_type": "code",
   "execution_count": 58,
   "metadata": {},
   "outputs": [],
   "source": [
    "def plot_path(lat, long, origin_point):\n",
    "\n",
    "    # adding the lines joining the nodes\n",
    "    fig = go.Figure(go.Scattermapbox(\n",
    "        name = \"Source\",\n",
    "        mode = \"markers\",\n",
    "        lat = [origin_point[0]],\n",
    "        lon = [origin_point[1]],\n",
    "        marker = {'size': 12, 'color':\"red\"}))\n",
    "        \n",
    "\n",
    "    # adding flood markers\n",
    "    fig.add_trace(go.Scattermapbox(\n",
    "        name = \"Source\",\n",
    "        mode = \"markers\",\n",
    "        lat = lat,\n",
    "        lon = long,\n",
    "        marker = {'size': 12, 'color':\"blue\"}))\n",
    "    \n",
    "    # getting center for plots:\n",
    "    lat_center = np.mean(lat)\n",
    "    long_center = np.mean(long)\n",
    "    # defining the layout using mapbox_style\n",
    "    fig.update_layout(mapbox_style=\"stamen-terrain\",\n",
    "        mapbox_center_lat = 30, mapbox_center_lon=-80)\n",
    "    fig.update_layout(margin={\"r\":0,\"t\":0,\"l\":0,\"b\":0},\n",
    "                      mapbox = {\n",
    "                          'center': {'lat': origin_point[0], 'lon': origin_point[1]},\n",
    "                          'zoom': 13})\n",
    "    fig.show()"
   ]
  },
  {
   "cell_type": "code",
   "execution_count": 1,
   "metadata": {},
   "outputs": [
    {
     "ename": "NameError",
     "evalue": "name 'df' is not defined",
     "output_type": "error",
     "traceback": [
      "\u001b[0;31m---------------------------------------------------------------------------\u001b[0m",
      "\u001b[0;31mNameError\u001b[0m                                 Traceback (most recent call last)",
      "\u001b[0;32m<ipython-input-1-c42a15b2c7cf>\u001b[0m in \u001b[0;36m<module>\u001b[0;34m\u001b[0m\n\u001b[0;32m----> 1\u001b[0;31m \u001b[0mdf\u001b[0m\u001b[0;34m.\u001b[0m\u001b[0mhead\u001b[0m\u001b[0;34m(\u001b[0m\u001b[0;34m)\u001b[0m\u001b[0;34m\u001b[0m\u001b[0;34m\u001b[0m\u001b[0m\n\u001b[0m",
      "\u001b[0;31mNameError\u001b[0m: name 'df' is not defined"
     ]
    }
   ],
   "source": [
    "df.head()"
   ]
  },
  {
   "cell_type": "code",
   "execution_count": null,
   "metadata": {},
   "outputs": [],
   "source": []
  },
  {
   "cell_type": "code",
   "execution_count": 102,
   "metadata": {},
   "outputs": [],
   "source": [
    "from collections import defaultdict\n",
    "neg_list = defaultdict(float)\n",
    "for x in df.values:\n",
    "    neg_list[(x[0], x[1])] = x[2]"
   ]
  },
  {
   "cell_type": "code",
   "execution_count": 106,
   "metadata": {},
   "outputs": [
    {
     "name": "stdout",
     "output_type": "stream",
     "text": [
      "(29.76, -95.40833)\n",
      "(29.775, -95.39694)\n",
      "(29.76023, -95.40855)\n",
      "(29.77523, -95.39716)\n"
     ]
    }
   ],
   "source": [
    "lat = []\n",
    "long = []\n",
    "for node in neg_list.keys():\n",
    "    x1, y1 = node\n",
    "    x2, y2 = center_point\n",
    "    dist = ox.distance.great_circle_vec(x1, y1, x2, y2)\n",
    "    if dist < 2200:\n",
    "        print(node)\n",
    "        lat.append(x1)\n",
    "        long.append(y1)"
   ]
  },
  {
   "cell_type": "code",
   "execution_count": null,
   "metadata": {},
   "outputs": [],
   "source": [
    "# lat = df['Latitude'].values\n",
    "# long = df['Longitude'].values\n",
    "origin_point = center_point\n",
    "plot_path(lat, long, origin_point)"
   ]
  },
  {
   "cell_type": "code",
   "execution_count": 141,
   "metadata": {},
   "outputs": [
    {
     "data": {
      "text/plain": [
       "0"
      ]
     },
     "execution_count": 141,
     "metadata": {},
     "output_type": "execute_result"
    }
   ],
   "source": [
    "mask = np.where([0,0,1,0,1,1,0,0,1])\n",
    "np.random.choice([0,0,1,0,1,1,0,0,1])"
   ]
  },
  {
   "cell_type": "code",
   "execution_count": 140,
   "metadata": {},
   "outputs": [
    {
     "data": {
      "text/plain": [
       "(array([2, 4, 5, 8]),)"
      ]
     },
     "execution_count": 140,
     "metadata": {},
     "output_type": "execute_result"
    }
   ],
   "source": [
    "mask"
   ]
  },
  {
   "cell_type": "code",
   "execution_count": null,
   "metadata": {},
   "outputs": [],
   "source": []
  }
 ],
 "metadata": {
  "interpreter": {
   "hash": "80860918312baba1287d743f7feea83bd862b1e76b6d0ad9d71444c5625316da"
  },
  "kernelspec": {
   "display_name": "Python 3.8.3 ('base')",
   "language": "python",
   "name": "python3"
  },
  "language_info": {
   "codemirror_mode": {
    "name": "ipython",
    "version": 3
   },
   "file_extension": ".py",
   "mimetype": "text/x-python",
   "name": "python",
   "nbconvert_exporter": "python",
   "pygments_lexer": "ipython3",
   "version": "3.8.3"
  },
  "orig_nbformat": 4
 },
 "nbformat": 4,
 "nbformat_minor": 2
}
