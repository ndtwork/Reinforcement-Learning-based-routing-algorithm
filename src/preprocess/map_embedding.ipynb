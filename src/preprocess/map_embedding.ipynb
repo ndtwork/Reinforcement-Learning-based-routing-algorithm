{
 "cells": [
  {
   "cell_type": "code",
   "execution_count": 1,
   "metadata": {},
   "outputs": [],
   "source": [
    "# coding: utf-8\n",
    "\n",
    "from karateclub import NetMF, Node2Vec, FeatherNode\n",
    "\n",
    "import osmnx as ox\n",
    "import networkx as nx\n",
    "import plotly.graph_objects as go\n",
    "import numpy as np\n",
    "import matplotlib.pyplot as plt\n",
    "from pathlib import Path\n",
    "from copy import deepcopy\n",
    "\n",
    "repo_path = str(Path.home()) + \"/dev/GraphRouteOptimizationRL/\"\n",
    "graph_path = repo_path +     \"datasets/osmnx/houston_tx_usa_drive_2000_slope.graphml\"\n",
    "\n",
    "output = repo_path + \"datasets/embeddings/houston_tx_usa_drive_2000_slope\"\n",
    "\n",
    "G = ox.load_graphml(graph_path)\n",
    "G = nx.relabel.convert_node_labels_to_integers(G, first_label=0, ordering='default')"
   ]
  },
  {
   "cell_type": "code",
   "execution_count": 2,
   "metadata": {},
   "outputs": [],
   "source": [
    "G.add_edge(100, 203)\n",
    "G.edges[100, 203, 0].update({'osmid': np.random.randint(99999999, 199999999), 'oneway': True, 'lanes': '3', 'name': 'dummy road', 'highway': 'primary',\n",
    "                                              'length': 64.304, 'speed_kph': 64.9, 'travel_time': 3.6, 'grade': 0.01555, 'grade_abs': 0.01555, 'bearing': 42.3, 'direction': 1})"
   ]
  },
  {
   "cell_type": "code",
   "execution_count": 3,
   "metadata": {},
   "outputs": [
    {
     "data": {
      "text/plain": [
       "{0: 266, 6: 1014, 2: 442, 1: 203}"
      ]
     },
     "execution_count": 3,
     "metadata": {},
     "output_type": "execute_result"
    }
   ],
   "source": [
    "{int(data['direction']): v for u, v, data in G.edges(100, data=True)}"
   ]
  },
  {
   "cell_type": "code",
   "execution_count": 5,
   "metadata": {},
   "outputs": [
    {
     "data": {
      "text/plain": [
       "{'osmid': 161459772,\n",
       " 'oneway': True,\n",
       " 'lanes': '3',\n",
       " 'name': 'dummy road',\n",
       " 'highway': 'primary',\n",
       " 'length': 64.304,\n",
       " 'speed_kph': 64.9,\n",
       " 'travel_time': 3.6,\n",
       " 'grade': 0.01555,\n",
       " 'grade_abs': 0.01555,\n",
       " 'bearing': 42.3,\n",
       " 'direction': 1}"
      ]
     },
     "execution_count": 5,
     "metadata": {},
     "output_type": "execute_result"
    }
   ],
   "source": [
    "G.edges[100, 203, 0]"
   ]
  },
  {
   "cell_type": "code",
   "execution_count": 2,
   "metadata": {},
   "outputs": [],
   "source": [
    "from collections import deque\n",
    "            \n",
    "def get_observation(u, G, size = 10):\n",
    "    dq = deque([u])\n",
    "    visited = set()\n",
    "    visited.add(u)\n",
    "    \n",
    "    while len(dq) != 0:\n",
    "        v = dq.popleft()\n",
    "        for i in G.neighbors(v):\n",
    "            if i not in visited:\n",
    "                dq.append(i)\n",
    "                visited.add(i)\n",
    "            if len(visited) == size + 1:\n",
    "                H = G.subgraph(list(visited))\n",
    "                return H, visited\n",
    "    raise Exception(\"Size too large\")\n",
    "    "
   ]
  },
  {
   "cell_type": "code",
   "execution_count": 4,
   "metadata": {},
   "outputs": [],
   "source": [
    "H, observation_set = get_observation(89, G, 20)"
   ]
  },
  {
   "cell_type": "code",
   "execution_count": 7,
   "metadata": {},
   "outputs": [
    {
     "data": {
      "text/plain": [
       "233.674"
      ]
     },
     "execution_count": 7,
     "metadata": {},
     "output_type": "execute_result"
    }
   ],
   "source": [
    "G.edges[45, 44, 0]['length']"
   ]
  },
  {
   "cell_type": "code",
   "execution_count": null,
   "metadata": {},
   "outputs": [],
   "source": [
    "fig, ax = ox.plot_graph(G, show=False, close=False)"
   ]
  },
  {
   "cell_type": "code",
   "execution_count": 20,
   "metadata": {},
   "outputs": [
    {
     "name": "stdout",
     "output_type": "stream",
     "text": [
      "Fitting\n",
      "Getting embedding\n"
     ]
    }
   ],
   "source": [
    "model = NetMF(dimensions=8)\n",
    "print(\"Fitting\")\n",
    "model.fit(G)\n",
    "\n",
    "print(\"Getting embedding\")\n",
    "X = model.get_embedding()"
   ]
  },
  {
   "cell_type": "code",
   "execution_count": 21,
   "metadata": {},
   "outputs": [],
   "source": [
    "np.save(output + \"_netmf_tmp.npy\", X)"
   ]
  },
  {
   "cell_type": "code",
   "execution_count": null,
   "metadata": {},
   "outputs": [],
   "source": [
    "\n",
    "\n",
    "\n",
    "model = Node2Vec(dimensions=8, workers=16)\n",
    "print(\"Fitting\")\n",
    "model.fit(G)\n",
    "\n",
    "print(\"Getting embedding\")\n",
    "X = model.get_embedding()\n",
    "\n",
    "np.save(output + \"_node2vec.npy\", X)\n",
    "\n",
    "model = NetMF(dimensions=8)\n",
    "print(\"Fitting\")\n",
    "model.fit(G)\n",
    "\n",
    "print(\"Getting embedding\")\n",
    "X = model.get_embedding()\n",
    "\n",
    "np.save(output + \"_netmf.npy\", X)\n",
    "\n",
    "\n",
    "# model = FeatherNode(reduction_dimensions=32)\n",
    "\n",
    "# print(\"Fitting\")\n",
    "# model.fit(G, X)\n",
    "\n",
    "# print(\"Getting embedding\")\n",
    "# X = model.get_embedding()\n",
    "\n",
    "# np.save(output + \"e_netmf_feather_32d.npy\", X)\n"
   ]
  }
 ],
 "metadata": {
  "interpreter": {
   "hash": "370b18453dd911954a8fbfa7dd3788e51d32d9f18de7cedd108b03143a0133b3"
  },
  "kernelspec": {
   "display_name": "Python 3.8.3 ('rl')",
   "language": "python",
   "name": "python3"
  },
  "language_info": {
   "codemirror_mode": {
    "name": "ipython",
    "version": 3
   },
   "file_extension": ".py",
   "mimetype": "text/x-python",
   "name": "python",
   "nbconvert_exporter": "python",
   "pygments_lexer": "ipython3",
   "version": "3.8.3"
  },
  "orig_nbformat": 4
 },
 "nbformat": 4,
 "nbformat_minor": 2
}
