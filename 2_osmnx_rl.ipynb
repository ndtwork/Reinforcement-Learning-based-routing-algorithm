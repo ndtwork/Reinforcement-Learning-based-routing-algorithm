{
 "cells": [
  {
   "metadata": {
    "ExecuteTime": {
     "end_time": "2024-12-17T11:53:07.886786Z",
     "start_time": "2024-12-17T11:52:35.678726Z"
    }
   },
   "cell_type": "code",
   "source": [
    "import tensorflow as tf\n",
    "print(\"GPUs Available: \", len(tf.config.list_physical_devices('GPU')))"
   ],
   "outputs": [
    {
     "name": "stdout",
     "output_type": "stream",
     "text": [
      "GPUs Available:  0\n"
     ]
    }
   ],
   "execution_count": 1
  },
  {
   "metadata": {
    "ExecuteTime": {
     "end_time": "2024-12-09T17:47:54.289937Z",
     "start_time": "2024-12-09T17:47:46.757204Z"
    }
   },
   "cell_type": "code",
   "source": [
    "import osmnx as ox\n",
    "import networkx as nx\n",
    "import plotly.graph_objects as go\n",
    "import numpy as np\n",
    "import matplotlib.pyplot as plt\n",
    "from src.utils import plot_path\n",
    "import wandb\n",
    "from tqdm import tqdm\n",
    "from src.shortest_path import ShortestPath"
   ],
   "outputs": [],
   "execution_count": 1
  },
  {
   "cell_type": "code",
   "metadata": {
    "ExecuteTime": {
     "end_time": "2024-12-09T17:47:54.337952Z",
     "start_time": "2024-12-09T17:47:54.319936Z"
    }
   },
   "source": [
    "# center_point = (29.72346214336903, -95.38599726549226) # houston museum/houston center points\n",
    "# G = ox.graph.graph_from_point(center_point, dist=20000, simplify = True, network_type='drive') # almost all houston roads"
   ],
   "outputs": [],
   "execution_count": 2
  },
  {
   "cell_type": "code",
   "metadata": {
    "ExecuteTime": {
     "end_time": "2024-12-09T17:47:54.541129Z",
     "start_time": "2024-12-09T17:47:54.526889Z"
    }
   },
   "source": [
    "# ox.save_graphml(G, './datasets/osmnx/houston_drive_20000.graphml')"
   ],
   "outputs": [],
   "execution_count": 3
  },
  {
   "cell_type": "code",
   "metadata": {
    "jupyter": {
     "is_executing": true
    },
    "ExecuteTime": {
     "start_time": "2024-12-09T17:47:54.574966Z"
    }
   },
   "source": [
    "# G = ox.load_graphml(\"./datasets/osmnx/houston_tx_usa_drive.graphml\")\n",
    "center_point = (29.72346214336903, -95.38599726549226) # houston museum/houston center points\n",
    "try:\n",
    "    G = ox.load_graphml(\"./houston_tx_usa_drive_5000.graphml\")\n",
    "    print(\"Graph Loaded\")\n",
    "except:\n",
    "    G = ox.graph.graph_from_point(center_point, dist=1300, simplify = True, network_type='drive')\n",
    "    ox.save_graphml(G, \"./datasets/osmnx/houston_tx_usa_drive.graphml\")\n",
    "    ox.plot_graph(G)\n",
    "\n",
    "# define origin and desination locations \n",
    "origin_point = center_point\n",
    "destination_point = (29.714630473243457, -95.37716122309068) # lat long\n",
    "# get the nearest nodes to the locations \n",
    "origin_node, origin_node_error = ox.distance.nearest_nodes(G, X = origin_point[1], Y = origin_point[0], return_dist = True)\n",
    "destination_node, destination_node_error = ox.distance.nearest_nodes(G, X = destination_point[1], Y = destination_point[0], return_dist = True)\n",
    "# printing the closest node id to origin and destination points \n",
    "print(\"origin_node id:\", origin_node, \"origin_node_error: \", origin_node_error)\n",
    "print(\"destination_node id:\", destination_node, \"destination_node_error: \", destination_node_error)"
   ],
   "outputs": [],
   "execution_count": null
  },
  {
   "cell_type": "code",
   "metadata": {},
   "source": [
    "# newyork\n",
    "center_point = (40.733442069598276, -73.99526536266013)\n",
    "G = ox.graph.graph_from_point(center_point, dist=20000, simplify = True, network_type='drive')\n",
    "ox.save_graphml(G, \"./datasets/osmnx/nyc_usa_drive_20000.graphml\")\n",
    "ox.plot_graph(G)"
   ],
   "outputs": [],
   "execution_count": null
  },
  {
   "cell_type": "code",
   "metadata": {},
   "source": [
    "SP = ShortestPath(G)\n",
    "# ox.plot_graph(G)"
   ],
   "outputs": [],
   "execution_count": null
  },
  {
   "cell_type": "code",
   "metadata": {},
   "source": [
    "def plot_path(lat, long, origin_point, destination_point):\n",
    "\n",
    "    flooded_point = (29.719234316403067, -95.37637299903416)\n",
    "    # adding the lines joining the nodes\n",
    "    fig = go.Figure(go.Scattermapbox(\n",
    "        name = \"Path\",\n",
    "        mode = \"markers+lines\",\n",
    "        lon = long,\n",
    "        lat = lat,\n",
    "        marker = {'size': 10},\n",
    "        line = dict(width = 4.5, color = 'blue')))\n",
    "        \n",
    "    # adding destination marker\n",
    "    fig.add_trace(go.Scattermapbox(\n",
    "        name = \"Destination\",\n",
    "        mode = \"markers\",\n",
    "        lon = [destination_point[1]],\n",
    "        lat = [destination_point[0]],\n",
    "        marker = {'size': 12, 'color':'green'}))\n",
    "\n",
    "    # adding source marker\n",
    "    fig.add_trace(go.Scattermapbox(\n",
    "        name = \"Source\",\n",
    "        mode = \"markers\",\n",
    "        lon = [origin_point[1]],\n",
    "        lat = [origin_point[0]],\n",
    "        marker = {'size': 12, 'color':\"red\"}))\n",
    "\n",
    "    # adding flood marker\n",
    "    fig.add_trace(go.Scattermapbox(\n",
    "        name = \"Flood Points\",\n",
    "        mode = \"markers\",\n",
    "        lon = [flooded_point[1]],\n",
    "        lat = [flooded_point[0]],\n",
    "        marker = {'size': 12, 'color':\"blue\"}))\n",
    "     \n",
    "    \n",
    "    # getting center for plots:\n",
    "    lat_center = np.mean(lat)\n",
    "    long_center = np.mean(long)\n",
    "    # defining the layout using mapbox_style\n",
    "    fig.update_layout(mapbox_style=\"stamen-terrain\",\n",
    "        mapbox_center_lat = 30, mapbox_center_lon=-80)\n",
    "    fig.update_layout(margin={\"r\":0,\"t\":0,\"l\":0,\"b\":0},\n",
    "                      mapbox = {\n",
    "                          'center': {'lat': lat_center, 'lon': long_center},\n",
    "                          'zoom': 13})\n",
    "    fig.show()"
   ],
   "outputs": [],
   "execution_count": null
  },
  {
   "cell_type": "code",
   "metadata": {},
   "source": [
    "scores, steps = SP.shortest_path(origin_node, destination_node)"
   ],
   "outputs": [],
   "execution_count": null
  },
  {
   "cell_type": "code",
   "metadata": {},
   "source": [
    "Q_route = [SP.reverse_nodes_dict[r] for r in steps]\n",
    "lat, long = SP.get_route_lat_long(Q_route)\n",
    "# print(\"length of route:\", SP.get_route_length(Q_route))\n",
    "plot_path(lat, long, origin_point, destination_point)"
   ],
   "outputs": [],
   "execution_count": null
  },
  {
   "cell_type": "code",
   "metadata": {},
   "source": [
    "nx_route = SP.networkx_shortest_path(origin_node, destination_node, plot=False)\n",
    "lat, long = SP.get_route_lat_long(nx_route)\n",
    "# print(\"length of route:\", SP.get_route_length(nx_route))\n",
    "plot_path(lat, long, origin_point, destination_point)"
   ],
   "outputs": [],
   "execution_count": null
  },
  {
   "cell_type": "code",
   "metadata": {},
   "source": [
    "Q_route[0]"
   ],
   "outputs": [],
   "execution_count": null
  },
  {
   "cell_type": "code",
   "metadata": {},
   "source": [
    "for x in G.edges():\n",
    "    print(x)\n",
    "    break"
   ],
   "outputs": [],
   "execution_count": null
  },
  {
   "cell_type": "code",
   "metadata": {},
   "source": [],
   "outputs": [],
   "execution_count": null
  }
 ],
 "metadata": {
  "interpreter": {
   "hash": "370b18453dd911954a8fbfa7dd3788e51d32d9f18de7cedd108b03143a0133b3"
  },
  "kernelspec": {
   "display_name": "Python 3.8.3 ('rl')",
   "language": "python",
   "name": "python3"
  },
  "language_info": {
   "codemirror_mode": {
    "name": "ipython",
    "version": 3
   },
   "file_extension": ".py",
   "mimetype": "text/x-python",
   "name": "python",
   "nbconvert_exporter": "python",
   "pygments_lexer": "ipython3",
   "version": "3.8.3"
  },
  "orig_nbformat": 4
 },
 "nbformat": 4,
 "nbformat_minor": 2
}
